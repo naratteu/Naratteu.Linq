{
 "cells": [
  {
   "cell_type": "markdown",
   "id": "436d3a60",
   "metadata": {},
   "source": [
    "# `SelectWhen` Enumerable Extension"
   ]
  },
  {
   "cell_type": "markdown",
   "id": "6f872f84",
   "metadata": {
    "language_info": {
     "name": "polyglot-notebook"
    },
    "polyglot_notebook": {
     "kernelName": "csharp"
    }
   },
   "source": [
    "## Overview"
   ]
  },
  {
   "cell_type": "markdown",
   "id": "cff124b5",
   "metadata": {},
   "source": [
    "`.TryGet(out ..)` 혹은 [`pattern-matching`](https://learn.microsoft.com/dotnet/csharp/fundamentals/functional/pattern-matching) 스타일의 코드는 절차적인 코드와는 잘 연계되나 `Linq` 와 같은 함수형 표현과는 상성이 좋지 못한편입니다."
   ]
  },
  {
   "cell_type": "code",
   "execution_count": 13,
   "id": "fcc1b777",
   "metadata": {},
   "outputs": [
    {
     "data": {
      "text/html": [
       "<div class=\"dni-plaintext\"><pre>[ 1, 2, , &lt;null&gt;, four ]</pre></div><style>\r\n",
       ".dni-code-hint {\r\n",
       "    font-style: italic;\r\n",
       "    overflow: hidden;\r\n",
       "    white-space: nowrap;\r\n",
       "}\r\n",
       ".dni-treeview {\r\n",
       "    white-space: nowrap;\r\n",
       "}\r\n",
       ".dni-treeview td {\r\n",
       "    vertical-align: top;\r\n",
       "    text-align: start;\r\n",
       "}\r\n",
       "details.dni-treeview {\r\n",
       "    padding-left: 1em;\r\n",
       "}\r\n",
       "table td {\r\n",
       "    text-align: start;\r\n",
       "}\r\n",
       "table tr { \r\n",
       "    vertical-align: top; \r\n",
       "    margin: 0em 0px;\r\n",
       "}\r\n",
       "table tr td pre \r\n",
       "{ \r\n",
       "    vertical-align: top !important; \r\n",
       "    margin: 0em 0px !important;\r\n",
       "} \r\n",
       "table th {\r\n",
       "    text-align: start;\r\n",
       "}\r\n",
       "</style>"
      ]
     },
     "metadata": {},
     "output_type": "display_data"
    }
   ],
   "source": [
    "#nullable enable\n",
    "string?[] numbers = [ \"1\", \"2\", \"\", null, \"four\" ];\n",
    "numbers"
   ]
  },
  {
   "cell_type": "markdown",
   "id": "b41716f4",
   "metadata": {},
   "source": [
    "위와같은 임의의 문자열 배열에서 유효한 정수문자열을 추출해 사용한다고 가정해봅시다."
   ]
  },
  {
   "cell_type": "code",
   "execution_count": 16,
   "id": "d10651f4",
   "metadata": {},
   "outputs": [
    {
     "data": {
      "text/html": [
       "<div class=\"dni-plaintext\"><pre>[ 1, 2 ]</pre></div><style>\r\n",
       ".dni-code-hint {\r\n",
       "    font-style: italic;\r\n",
       "    overflow: hidden;\r\n",
       "    white-space: nowrap;\r\n",
       "}\r\n",
       ".dni-treeview {\r\n",
       "    white-space: nowrap;\r\n",
       "}\r\n",
       ".dni-treeview td {\r\n",
       "    vertical-align: top;\r\n",
       "    text-align: start;\r\n",
       "}\r\n",
       "details.dni-treeview {\r\n",
       "    padding-left: 1em;\r\n",
       "}\r\n",
       "table td {\r\n",
       "    text-align: start;\r\n",
       "}\r\n",
       "table tr { \r\n",
       "    vertical-align: top; \r\n",
       "    margin: 0em 0px;\r\n",
       "}\r\n",
       "table tr td pre \r\n",
       "{ \r\n",
       "    vertical-align: top !important; \r\n",
       "    margin: 0em 0px !important;\r\n",
       "} \r\n",
       "table th {\r\n",
       "    text-align: start;\r\n",
       "}\r\n",
       "</style>"
      ]
     },
     "metadata": {},
     "output_type": "display_data"
    }
   ],
   "source": [
    "#nullable enable\n",
    "using System.Collections.Generic;\n",
    "static IEnumerable<int> TryParseInt(this IEnumerable<string?> source)\n",
    "{\n",
    "    foreach (var str in source)\n",
    "        if (int.TryParse(str, out var i))\n",
    "            yield return i;\n",
    "}\n",
    "numbers.TryParseInt().ToArray()"
   ]
  },
  {
   "cell_type": "markdown",
   "id": "70601238",
   "metadata": {},
   "source": [
    "이렇게 하면 절차적으로 자연스럽게 유효한 값만 서브할수 있으나, 람다식에서는 `yield` 문법을 사용할수 없으므로 필요할때마다 반복기 함수를 따로 선언해야만하는 문제가 있습니다."
   ]
  },
  {
   "cell_type": "code",
   "execution_count": 120,
   "id": "a8da6c42",
   "metadata": {},
   "outputs": [
    {
     "ename": "Error",
     "evalue": "(3,63): error CS0103: 'i' 이름이 현재 컨텍스트에 없습니다.",
     "output_type": "error",
     "traceback": [
      "(3,63): error CS0103: 'i' 이름이 현재 컨텍스트에 없습니다."
     ]
    }
   ],
   "source": [
    "numbers.Where(str => int.TryParse(str, out _)).Select(str => int.Parse(str)); // [ 1, 2 ]\n",
    "numbers.Select(str => (b: int.TryParse(str, out var i), i)).Where(tuple => tuple.b).Select(tuple => tuple.i); // [ 1, 2 ]\n",
    "from str in numbers where int.TryParse(str, out var i) select i"
   ]
  },
  {
   "cell_type": "markdown",
   "id": "14ba2d34",
   "metadata": {},
   "source": [
    "`where` 에서는 반환값 외의 `out` 출력을 사용할수가 없어 불필요하게 연산을 두번해야합니다.\n",
    "\n",
    "억지로 사용해보려 엮어도 더 복잡해 보이기만 할 뿐 입니다."
   ]
  },
  {
   "cell_type": "code",
   "execution_count": 30,
   "id": "6e919c7a",
   "metadata": {},
   "outputs": [
    {
     "data": {
      "text/html": [
       "<table><thead><tr><th><i>index</i></th><th>value</th></tr></thead><tbody><tr><td>0</td><td><details class=\"dni-treeview\"><summary><span class=\"dni-code-hint\"><code>{ Name = Alice, Age = 30 }</code></span></summary><div><table><thead><tr></tr></thead><tbody><tr><td>Name</td><td><div class=\"dni-plaintext\"><pre>Alice</pre></div></td></tr><tr><td>Age</td><td><div class=\"dni-plaintext\"><pre>30</pre></div></td></tr></tbody></table></div></details></td></tr><tr><td>1</td><td><details class=\"dni-treeview\"><summary><span class=\"dni-code-hint\"><code>{ Name = Bob, Age = -1 }</code></span></summary><div><table><thead><tr></tr></thead><tbody><tr><td>Name</td><td><div class=\"dni-plaintext\"><pre>Bob</pre></div></td></tr><tr><td>Age</td><td><div class=\"dni-plaintext\"><pre>-1</pre></div></td></tr></tbody></table></div></details></td></tr><tr><td>2</td><td><details class=\"dni-treeview\"><summary><span class=\"dni-code-hint\"><code>{ Name = Charlie, Age = 25 }</code></span></summary><div><table><thead><tr></tr></thead><tbody><tr><td>Name</td><td><div class=\"dni-plaintext\"><pre>Charlie</pre></div></td></tr><tr><td>Age</td><td><div class=\"dni-plaintext\"><pre>25</pre></div></td></tr></tbody></table></div></details></td></tr><tr><td>3</td><td><details class=\"dni-treeview\"><summary><span class=\"dni-code-hint\"><code>{ Name = David, Age = 0 }</code></span></summary><div><table><thead><tr></tr></thead><tbody><tr><td>Name</td><td><div class=\"dni-plaintext\"><pre>David</pre></div></td></tr><tr><td>Age</td><td><div class=\"dni-plaintext\"><pre>0</pre></div></td></tr></tbody></table></div></details></td></tr></tbody></table><style>\r\n",
       ".dni-code-hint {\r\n",
       "    font-style: italic;\r\n",
       "    overflow: hidden;\r\n",
       "    white-space: nowrap;\r\n",
       "}\r\n",
       ".dni-treeview {\r\n",
       "    white-space: nowrap;\r\n",
       "}\r\n",
       ".dni-treeview td {\r\n",
       "    vertical-align: top;\r\n",
       "    text-align: start;\r\n",
       "}\r\n",
       "details.dni-treeview {\r\n",
       "    padding-left: 1em;\r\n",
       "}\r\n",
       "table td {\r\n",
       "    text-align: start;\r\n",
       "}\r\n",
       "table tr { \r\n",
       "    vertical-align: top; \r\n",
       "    margin: 0em 0px;\r\n",
       "}\r\n",
       "table tr td pre \r\n",
       "{ \r\n",
       "    vertical-align: top !important; \r\n",
       "    margin: 0em 0px !important;\r\n",
       "} \r\n",
       "table th {\r\n",
       "    text-align: start;\r\n",
       "}\r\n",
       "</style>"
      ]
     },
     "metadata": {},
     "output_type": "display_data"
    }
   ],
   "source": [
    "#nullable enable\n",
    "var arr = new[]\n",
    "{\n",
    "    new { Name = \"Alice\", Age = 30 },\n",
    "    new { Name = \"Bob\", Age = -1 },\n",
    "    null,\n",
    "    new { Name = \"Charlie\", Age = 25 },\n",
    "    new { Name = \"David\", Age = 0 }\n",
    "};\n",
    "arr.OfType<object>()"
   ]
  },
  {
   "cell_type": "markdown",
   "id": "111aa201",
   "metadata": {},
   "source": [
    "null인 값은 적절히 필터링 했으나 정작 익명객체의 맴버에 접근할수가 없습니다."
   ]
  },
  {
   "cell_type": "code",
   "execution_count": 40,
   "id": "7dba7c6a",
   "metadata": {},
   "outputs": [
    {
     "data": {
      "text/html": [
       "<div class=\"dni-plaintext\"><pre>[ Alice, Bob, Charlie, David ]</pre></div><style>\r\n",
       ".dni-code-hint {\r\n",
       "    font-style: italic;\r\n",
       "    overflow: hidden;\r\n",
       "    white-space: nowrap;\r\n",
       "}\r\n",
       ".dni-treeview {\r\n",
       "    white-space: nowrap;\r\n",
       "}\r\n",
       ".dni-treeview td {\r\n",
       "    vertical-align: top;\r\n",
       "    text-align: start;\r\n",
       "}\r\n",
       "details.dni-treeview {\r\n",
       "    padding-left: 1em;\r\n",
       "}\r\n",
       "table td {\r\n",
       "    text-align: start;\r\n",
       "}\r\n",
       "table tr { \r\n",
       "    vertical-align: top; \r\n",
       "    margin: 0em 0px;\r\n",
       "}\r\n",
       "table tr td pre \r\n",
       "{ \r\n",
       "    vertical-align: top !important; \r\n",
       "    margin: 0em 0px !important;\r\n",
       "} \r\n",
       "table th {\r\n",
       "    text-align: start;\r\n",
       "}\r\n",
       "</style>"
      ]
     },
     "metadata": {},
     "output_type": "display_data"
    }
   ],
   "source": [
    "#nullable enable\n",
    "arr.Where(a => a is { } notnull).Select(a => a!.Name)"
   ]
  },
  {
   "cell_type": "markdown",
   "id": "9676d08c",
   "metadata": {},
   "source": [
    "패턴매칭을 통한 변수캡쳐를 활용못한채 컴파일러가 흐름을 분석해주지 않으므로, null이 아닌값을 필터링 했음에도 불구하고 여전히 null 가능성을 경고하기때문에, `!.` 을 사용해 null이 포함되지 않았음을 억지로 지정해야 합니다.\n",
    "\n",
    "`Naratteu.Linq` 는 이러한 함수형 표현의 한계를 `Select` + `When` 조합으로 해소하고자 구성되엇습니다."
   ]
  },
  {
   "cell_type": "markdown",
   "id": "3cd741ec",
   "metadata": {},
   "source": [
    "## Usage"
   ]
  },
  {
   "cell_type": "code",
   "execution_count": 45,
   "id": "2ff529a7",
   "metadata": {},
   "outputs": [
    {
     "data": {
      "text/html": [
       "<div><div></div><div></div><div><strong>Installed Packages</strong><ul><li><span>Naratteu.Linq, 0.0.1</span></li></ul></div></div>"
      ]
     },
     "metadata": {},
     "output_type": "display_data"
    }
   ],
   "source": [
    "#r \"nuget: Naratteu.Linq, 0.0.1\"\n",
    "using static Naratteu.Linq.SelectWhen;"
   ]
  },
  {
   "cell_type": "code",
   "execution_count": 46,
   "id": "88a6166c",
   "metadata": {},
   "outputs": [
    {
     "data": {
      "text/html": [
       "<div class=\"dni-plaintext\"><pre>[ 1, 2 ]</pre></div><style>\r\n",
       ".dni-code-hint {\r\n",
       "    font-style: italic;\r\n",
       "    overflow: hidden;\r\n",
       "    white-space: nowrap;\r\n",
       "}\r\n",
       ".dni-treeview {\r\n",
       "    white-space: nowrap;\r\n",
       "}\r\n",
       ".dni-treeview td {\r\n",
       "    vertical-align: top;\r\n",
       "    text-align: start;\r\n",
       "}\r\n",
       "details.dni-treeview {\r\n",
       "    padding-left: 1em;\r\n",
       "}\r\n",
       "table td {\r\n",
       "    text-align: start;\r\n",
       "}\r\n",
       "table tr { \r\n",
       "    vertical-align: top; \r\n",
       "    margin: 0em 0px;\r\n",
       "}\r\n",
       "table tr td pre \r\n",
       "{ \r\n",
       "    vertical-align: top !important; \r\n",
       "    margin: 0em 0px !important;\r\n",
       "} \r\n",
       "table th {\r\n",
       "    text-align: start;\r\n",
       "}\r\n",
       "</style>"
      ]
     },
     "metadata": {},
     "output_type": "display_data"
    }
   ],
   "source": [
    "numbers.Select(str => When(int.TryParse(str, out var i), out i))"
   ]
  },
  {
   "cell_type": "code",
   "execution_count": 47,
   "id": "3aeba6e0",
   "metadata": {},
   "outputs": [
    {
     "data": {
      "text/html": [
       "<div class=\"dni-plaintext\"><pre>[ Alice, Charlie ]</pre></div><style>\r\n",
       ".dni-code-hint {\r\n",
       "    font-style: italic;\r\n",
       "    overflow: hidden;\r\n",
       "    white-space: nowrap;\r\n",
       "}\r\n",
       ".dni-treeview {\r\n",
       "    white-space: nowrap;\r\n",
       "}\r\n",
       ".dni-treeview td {\r\n",
       "    vertical-align: top;\r\n",
       "    text-align: start;\r\n",
       "}\r\n",
       "details.dni-treeview {\r\n",
       "    padding-left: 1em;\r\n",
       "}\r\n",
       "table td {\r\n",
       "    text-align: start;\r\n",
       "}\r\n",
       "table tr { \r\n",
       "    vertical-align: top; \r\n",
       "    margin: 0em 0px;\r\n",
       "}\r\n",
       "table tr td pre \r\n",
       "{ \r\n",
       "    vertical-align: top !important; \r\n",
       "    margin: 0em 0px !important;\r\n",
       "} \r\n",
       "table th {\r\n",
       "    text-align: start;\r\n",
       "}\r\n",
       "</style>"
      ]
     },
     "metadata": {},
     "output_type": "display_data"
    }
   ],
   "source": [
    "arr.Select(a => When(a is { Age: > 0, Name: var name }, out name))"
   ]
  },
  {
   "cell_type": "markdown",
   "id": "ea767121",
   "metadata": {},
   "source": [
    "캡쳐한 변수를 `out` 하는 최소한의 표현만으로 유효한 값을 추출해냅니다."
   ]
  },
  {
   "cell_type": "markdown",
   "id": "b869a667",
   "metadata": {},
   "source": [
    "## Advanced"
   ]
  },
  {
   "cell_type": "markdown",
   "id": "54f119c7",
   "metadata": {},
   "source": [
    "### [`type` + `const` + `inner capture`](https://dotnetfiddle.net/skR9iN)"
   ]
  },
  {
   "cell_type": "markdown",
   "id": "73d5b91b",
   "metadata": {},
   "source": [
    "### `select` + `switch` + `when` complex use case"
   ]
  },
  {
   "cell_type": "code",
   "execution_count": 121,
   "id": "f219064d",
   "metadata": {},
   "outputs": [
    {
     "data": {
      "text/html": [
       "<div class=\"dni-plaintext\"><pre>[ 1, 2, 3, 4, 255, 3, 10 ]</pre></div><style>\r\n",
       ".dni-code-hint {\r\n",
       "    font-style: italic;\r\n",
       "    overflow: hidden;\r\n",
       "    white-space: nowrap;\r\n",
       "}\r\n",
       ".dni-treeview {\r\n",
       "    white-space: nowrap;\r\n",
       "}\r\n",
       ".dni-treeview td {\r\n",
       "    vertical-align: top;\r\n",
       "    text-align: start;\r\n",
       "}\r\n",
       "details.dni-treeview {\r\n",
       "    padding-left: 1em;\r\n",
       "}\r\n",
       "table td {\r\n",
       "    text-align: start;\r\n",
       "}\r\n",
       "table tr { \r\n",
       "    vertical-align: top; \r\n",
       "    margin: 0em 0px;\r\n",
       "}\r\n",
       "table tr td pre \r\n",
       "{ \r\n",
       "    vertical-align: top !important; \r\n",
       "    margin: 0em 0px !important;\r\n",
       "} \r\n",
       "table th {\r\n",
       "    text-align: start;\r\n",
       "}\r\n",
       "</style>"
      ]
     },
     "metadata": {},
     "output_type": "display_data"
    }
   ],
   "source": [
    "using static System.Globalization.NumberStyles;\n",
    "record IntBox(int Int);\n",
    "new object[] { 1, \"2\", 3.0, 3.1, 4f, \"0xFF\", \"0b11\", new IntBox(10), null }.Select(o => o switch\n",
    "{\n",
    "    int i => When(true, out i),\n",
    "    string s when s.StartsWith(\"0x\") => When(int.TryParse(s[2..], HexNumber, null, out var i), out i),\n",
    "    string s and ['0', 'b' or 'B', ..] => When(int.TryParse(s[2..], BinaryNumber, null, out var i), out i),\n",
    "    string s => When(int.TryParse(s, out var i), out i),\n",
    "    double d => When((int)d is var i && i == d, out i),\n",
    "    IConvertible conv => When(conv.ToInt32(null) is var i && conv.ToDecimal(null) == i, out i),\n",
    "    IntBox(Int: var i) => new(true, i),\n",
    "    _ => default\n",
    "})"
   ]
  },
  {
   "cell_type": "markdown",
   "id": "20fb1a86",
   "metadata": {},
   "source": [
    "## Todos"
   ]
  },
  {
   "cell_type": "markdown",
   "id": "26fc3b25",
   "metadata": {},
   "source": [
    "- ~~[RefLinq](https://dotnetfiddle.net/ucAXwJ)~~ [`ZLinq`](https://github.com/Cysharp/ZLinq) 지원\n",
    "    - SelectWhen.Pair<T> 객체가 단순 값복사가 아닌 `ref` 참조를 담아 전달될 필요가 있음."
   ]
  }
 ],
 "metadata": {
  "kernelspec": {
   "display_name": ".NET (C#)",
   "language": "C#",
   "name": ".net-csharp"
  },
  "language_info": {
   "name": "polyglot-notebook"
  },
  "polyglot_notebook": {
   "kernelInfo": {
    "defaultKernelName": "csharp",
    "items": [
     {
      "aliases": [],
      "languageName": "csharp",
      "name": "csharp"
     }
    ]
   }
  }
 },
 "nbformat": 4,
 "nbformat_minor": 5
}
